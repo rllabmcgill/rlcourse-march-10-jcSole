{
 "cells": [
  {
   "cell_type": "code",
   "execution_count": 29,
   "metadata": {
    "collapsed": true
   },
   "outputs": [],
   "source": [
    "import numpy as np\n",
    "import matplotlib.pyplot as plt\n",
    "import time\n",
    "from IPython import display\n",
    "from IPython.display import clear_output\n",
    "import sys\n",
    "from random import shuffle\n",
    "from collections import defaultdict"
   ]
  },
  {
   "cell_type": "code",
   "execution_count": 30,
   "metadata": {
    "collapsed": true
   },
   "outputs": [],
   "source": [
    "%matplotlib inline"
   ]
  },
  {
   "cell_type": "markdown",
   "metadata": {},
   "source": [
    "## Bulding the racetrack"
   ]
  },
  {
   "cell_type": "code",
   "execution_count": 31,
   "metadata": {
    "collapsed": false
   },
   "outputs": [
    {
     "data": {
      "text/plain": [
       "array([[  0.,   0.,   0.,   0.,   0.,   0.,   0., -50.,   0.],\n",
       "       [  0.,   0., -50.,   0.,   0.,   0.,   0., -50.,   0.],\n",
       "       [  0.,   0., -50.,   0.,   0.,   0.,   0., -50.,   0.],\n",
       "       [  0.,   0., -50.,   0.,   0.,   0.,   0.,   0.,   0.],\n",
       "       [  0.,   0.,   0.,   0.,   0., -50.,   0.,   0.,   0.],\n",
       "       [  0.,   0.,   0.,   0.,   0.,   0.,   0.,   0.,   0.]])"
      ]
     },
     "execution_count": 31,
     "metadata": {},
     "output_type": "execute_result"
    }
   ],
   "source": [
    "grid = np.zeros((6,9))\n",
    "grid[0:3,-2] = -50\n",
    "grid[1:4, 2] = -50\n",
    "grid[-2, -4] = -50\n",
    "START = (2,0)\n",
    "END   = (0,8)\n",
    "grid"
   ]
  },
  {
   "cell_type": "markdown",
   "metadata": {},
   "source": [
    "## Initialization"
   ]
  },
  {
   "cell_type": "code",
   "execution_count": 32,
   "metadata": {
    "collapsed": true
   },
   "outputs": [],
   "source": [
    "actions = ['u', 'd', 'r', 'l']\n",
    "\n",
    "#TRANSITIONS for each (state, action) pair\n",
    "trans = defaultdict(lambda : defaultdict(tuple))\n",
    "\n",
    "#REWARDS\n",
    "r     = defaultdict(int)\n",
    "\n",
    "for row in range(6):\n",
    "    for column in range(9):\n",
    "        state = (row, column)\n",
    "        if row==0 or grid[row-1, column] <0:\n",
    "            trans[state][0] = state\n",
    "        else:\n",
    "            trans[state][0] = (row-1, column)\n",
    "        \n",
    "        if row==5 or grid[row+1, column] <0:\n",
    "            trans[state][1] = state\n",
    "        else:\n",
    "            trans[state][1] = (row+1, column)\n",
    "            \n",
    "        if column == 8 or grid[row, column+1] <0:\n",
    "            trans[state][2] = state\n",
    "        else:\n",
    "            trans[state][2] = (row, column+1)\n",
    "            \n",
    "        if column==0 or grid[row, column-1] <0:\n",
    "            trans[state][3] = state \n",
    "        else:\n",
    "            trans[state][3] = (row, column - 1)\n",
    "        \n",
    "        if state == END:\n",
    "            r[state]= 0\n",
    "        else:\n",
    "            r[state]= -1"
   ]
  },
  {
   "cell_type": "markdown",
   "metadata": {},
   "source": [
    "## Utils"
   ]
  },
  {
   "cell_type": "code",
   "execution_count": 33,
   "metadata": {
    "collapsed": true
   },
   "outputs": [],
   "source": [
    "def greedyAction(state, V):\n",
    "    bestAction = -1\n",
    "    qMax = -np.inf\n",
    "\n",
    "    act_list = range(4)\n",
    "    shuffle(act_list)\n",
    "    \n",
    "    for action  in act_list:\n",
    "        nextState = trans[state][action]\n",
    "        q_action = r[nextState] + V[nextState]\n",
    "        if (q_action > qMax):\n",
    "            qMax = q_action\n",
    "            bestAction = action\n",
    "\n",
    "    return bestAction\n",
    "\n",
    "\n",
    "def getAveragePathLength(V):\n",
    "    lenghts = []\n",
    "\n",
    "    for _ in range(500):\n",
    "        state = START\n",
    "        nbSteps =0        \n",
    "        \n",
    "        while (state!=END):\n",
    "            #print state\n",
    "            #raw_input(\"Pausa\")\n",
    "            bestAction = greedyAction(state, V)\n",
    "            nextState = trans[state][bestAction]\n",
    "            nbSteps += 1\n",
    "            state = nextState\n",
    "\n",
    "        lenghts.append(nbSteps)\n",
    "\n",
    "    return float(sum(lenghts))/len(lenghts)"
   ]
  },
  {
   "cell_type": "markdown",
   "metadata": {},
   "source": [
    "## DP"
   ]
  },
  {
   "cell_type": "code",
   "execution_count": 34,
   "metadata": {
    "collapsed": false
   },
   "outputs": [],
   "source": [
    "V_Sync  = defaultdict(float)\n",
    "nbSweeps_Sync  = 0 \n",
    "nbBackups_Sync =0 \n",
    "\n",
    "gamma = 1\n",
    "\n",
    "delta = 10**(-7) + 1\n",
    "\n",
    "#Average path length after each sweeps \n",
    "lenghts_DP = []\n",
    "\n",
    "#number of backups after each sweep (= number of states)\n",
    "backups_DP = []\n",
    "\n",
    "while delta > 10**(-7):\n",
    "    delta = 0 \n",
    "    V_old = V_Sync.copy()\n",
    "    nbSweeps_Sync +=1\n",
    "    for row in range(6):\n",
    "        for column in range(9):\n",
    "            if grid[row,column] < 0:\n",
    "                continue\n",
    "            state = (row,column) \n",
    "            \n",
    "            greedyAct    = greedyAction(state, V_old)\n",
    "            nextState    = trans[state][greedyAct]\n",
    "            qAction      = r[nextState] + gamma * V_old[nextState]                        \n",
    "            if abs(qAction - V_old[state]) > delta :\n",
    "                delta = abs(qAction - V_old[state])\n",
    "                \n",
    "            V_Sync[state] = qAction \n",
    "            nbBackups_Sync +=1\n",
    "            \n",
    "            #VISUALIZE UPDATES SEQUENTIALLY\n",
    "            \"\"\"\n",
    "            clear_output()\n",
    "            Vgrid = grid.copy()\n",
    "            for state in V_Sync.keys():\n",
    "                Vgrid[state] = V_Sync[state]\n",
    "            print Vgrid\n",
    "            sys.stdout.flush()\n",
    "            time.sleep(0.2)\n",
    "            \"\"\"\n",
    "    backups_DP.append(nbBackups_Sync)\n",
    "    lenghts_DP.append(getAveragePathLength(V_Sync))"
   ]
  },
  {
   "cell_type": "code",
   "execution_count": 35,
   "metadata": {
    "collapsed": false
   },
   "outputs": [
    {
     "name": "stdout",
     "output_type": "stream",
     "text": [
      "Toal number of sweeps:     15\n",
      "Total number of backups:   705\n"
     ]
    }
   ],
   "source": [
    "print \"Toal number of sweeps:    \", nbSweeps_Sync\n",
    "print \"Total number of backups:  \", nbBackups_Sync"
   ]
  },
  {
   "cell_type": "code",
   "execution_count": 36,
   "metadata": {
    "collapsed": false
   },
   "outputs": [
    {
     "data": {
      "image/png": "[encoded data removed]",
      "text/plain": [
       "<matplotlib.figure.Figure at 0x7d050f0>"
      ]
     },
     "metadata": {},
     "output_type": "display_data"
    }
   ],
   "source": [
    "plt.plot(backups_DP, lenghts_DP )\n",
    "plt.xlabel(\"Number of backups\")\n",
    "plt.ylabel(\"Average path length\")\n",
    "plt.title(\"Synchronous DP\")\n",
    "plt.savefig(\"images/DP\", boxinches = \"tight\")\n",
    "plt.show()"
   ]
  },
  {
   "cell_type": "markdown",
   "metadata": {},
   "source": [
    "## Gauss - Seidel DP"
   ]
  },
  {
   "cell_type": "code",
   "execution_count": 37,
   "metadata": {
    "collapsed": false
   },
   "outputs": [],
   "source": [
    "V_GS  = defaultdict(float)\n",
    "nbSweeps_GS  = 0\n",
    "nbBackups_GS = 0\n",
    "\n",
    "gamma = 1\n",
    "\n",
    "backups_GS = []\n",
    "lenghts_GS = []\n",
    "\n",
    "#Random states ordering\n",
    "states = [(i,j) for i in range(6) for j in range(9)]\n",
    "shuffle(states)\n",
    "\n",
    "delta = 10**(-7) + 1\n",
    "while delta > 10**(-7):\n",
    "    delta = 0 \n",
    "    nbSweeps_GS +=1    \n",
    "   \n",
    "    for state in states:\n",
    "        if grid[state] < 0:\n",
    "            continue\n",
    "            \n",
    "        greedyAct    = greedyAction(state, V_GS)\n",
    "        nextState    = trans[state][greedyAct]\n",
    "        qAction      = r[nextState] + gamma * V_GS[nextState]   \n",
    "        \n",
    "        if abs(qAction - V_GS[state]) > delta :\n",
    "            delta = abs(qAction - V_GS[state])\n",
    "\n",
    "        V_GS[state] = qAction\n",
    "        nbBackups_GS +=1            \n",
    "    \n",
    "        #VISUALIZE UPDATES SEQUENTIALLY\n",
    "        \"\"\"\n",
    "        clear_output()\n",
    "        Vgrid = grid.copy()\n",
    "        for state in V_GS.keys():\n",
    "            Vgrid[state] = V_GS[state]\n",
    "        print Vgrid\n",
    "        sys.stdout.flush()\n",
    "        raw_input(\"Pausa\")        \n",
    "        \"\"\"\n",
    "    backups_GS.append(nbBackups_GS)\n",
    "    lenghts_GS.append(getAveragePathLength(V_GS))"
   ]
  },
  {
   "cell_type": "code",
   "execution_count": 38,
   "metadata": {
    "collapsed": false
   },
   "outputs": [
    {
     "name": "stdout",
     "output_type": "stream",
     "text": [
      "Toal number of sweeps:     15\n",
      "Total number of backups:   705\n"
     ]
    }
   ],
   "source": [
    "print \"Toal number of sweeps:    \", nbSweeps_GS\n",
    "print \"Total number of backups:  \", nbBackups_GS"
   ]
  },
  {
   "cell_type": "code",
   "execution_count": 39,
   "metadata": {
    "collapsed": false
   },
   "outputs": [
    {
     "data": {
      "image/png": "[encoded data removed]",
      "text/plain": [
       "<matplotlib.figure.Figure at 0x7e48860>"
      ]
     },
     "metadata": {},
     "output_type": "display_data"
    }
   ],
   "source": [
    "plt.plot(backups_DP, lenghts_DP , label= \"Sync DP\" )\n",
    "plt.plot(backups_GS, lenghts_GS , label= \"GS DP\")\n",
    "plt.xlabel(\"Number of backups\")\n",
    "plt.ylabel(\"Average path length\")\n",
    "plt.legend(loc=\"upper right\", frameon = False)\n",
    "plt.title(\"Self-transitions allowed: no  improvement with GS\")\n",
    "plt.savefig(\"images/DP-GS\", boxinches = \"tight\")\n",
    "plt.show()"
   ]
  },
  {
   "cell_type": "markdown",
   "metadata": {},
   "source": [
    "## RTDP"
   ]
  },
  {
   "cell_type": "code",
   "execution_count": 40,
   "metadata": {
    "collapsed": false
   },
   "outputs": [],
   "source": [
    "gamma = 1\n",
    "\n",
    "\n",
    "trials_simulations = []\n",
    "\n",
    "for _ in range(500):\n",
    "    nbEpisodes = 0\n",
    "    nbBackups_RTDP =0\n",
    "    V_RTDP = defaultdict(float)\n",
    "    delta = 10**(-7) + 1\n",
    "    trials_stats = []\n",
    "    while delta > 10**(-7):\n",
    "    \n",
    "        delta = 0 \n",
    "        state = START\n",
    "        nbEpisodes +=1\n",
    "        nbSteps = 0\n",
    "\n",
    "        while state!= END:    \n",
    "            nbSteps += 1            \n",
    "                        \n",
    "            greedyAct    = greedyAction(state, V_RTDP)\n",
    "            nextState    = trans[state][greedyAct]\n",
    "            qAction      = r[nextState] + gamma * V_RTDP[nextState]   \n",
    "\n",
    "            if abs(qAction - V_RTDP[state]) > delta :\n",
    "                delta = abs(qAction - V_RTDP[state])\n",
    "\n",
    "            V_RTDP[state] = qAction\n",
    "            nbBackups_RTDP +=1\n",
    "            \n",
    "            state = nextState           \n",
    "        \n",
    "        trials_stats.append((nbSteps, nbBackups_RTDP))\n",
    "    trials_simulations.append(trials_stats)"
   ]
  },
  {
   "cell_type": "code",
   "execution_count": 41,
   "metadata": {
    "collapsed": false
   },
   "outputs": [
    {
     "data": {
      "text/plain": [
       "(500L, 36L, 2L)"
      ]
     },
     "execution_count": 41,
     "metadata": {},
     "output_type": "execute_result"
    }
   ],
   "source": [
    "#Get maximum number of trials \n",
    "maxNbTrials = max([len(t) for t in trials_simulations])\n",
    "\n",
    "#Since every simulation has different number of trials, make it equal for all so that I can average over all simulations\n",
    "for idx,_ in enumerate(trials_simulations):\n",
    "    while (len(trials_simulations[idx]) < maxNbTrials):\n",
    "        trials_simulations[idx].append(trials_simulations[idx][-1])\n",
    "        \n",
    "simulationsMaxtrix = np.array(trials_simulations)\n",
    "simulationsMaxtrix.shape"
   ]
  },
  {
   "cell_type": "code",
   "execution_count": 42,
   "metadata": {
    "collapsed": false
   },
   "outputs": [
    {
     "data": {
      "text/plain": [
       "(500L, 36L)"
      ]
     },
     "execution_count": 42,
     "metadata": {},
     "output_type": "execute_result"
    }
   ],
   "source": [
    "lengthsMatrix = simulationsMaxtrix[:,:,0]\n",
    "backupsMatrix = simulationsMaxtrix[:,:,1]\n",
    "lengthsMatrix.shape"
   ]
  },
  {
   "cell_type": "code",
   "execution_count": 43,
   "metadata": {
    "collapsed": true
   },
   "outputs": [],
   "source": [
    "lenghtsAvg = lengthsMatrix.mean(axis=0)\n",
    "backupsAvg = backupsMatrix.mean(axis=0)"
   ]
  },
  {
   "cell_type": "code",
   "execution_count": 44,
   "metadata": {
    "collapsed": false
   },
   "outputs": [
    {
     "name": "stdout",
     "output_type": "stream",
     "text": [
      "Max total number of backups (over all simulations):   860\n",
      "Min total number of backups (over all simulations):   692\n"
     ]
    }
   ],
   "source": [
    "print \"Max total number of backups (over all simulations):  \", np.max(backupsMatrix[:,-1], axis = 0)\n",
    "print \"Min total number of backups (over all simulations):  \"  , np.min(backupsMatrix[:,-1], axis = 0)"
   ]
  },
  {
   "cell_type": "code",
   "execution_count": 45,
   "metadata": {
    "collapsed": false
   },
   "outputs": [
    {
     "data": {
      "image/png": "[encoded data removed]",
      "text/plain": [
       "<matplotlib.figure.Figure at 0x7e400b8>"
      ]
     },
     "metadata": {},
     "output_type": "display_data"
    }
   ],
   "source": [
    "plt.plot(backupsAvg, lenghtsAvg , label = \"RTDP\")\n",
    "plt.plot(backups_DP, lenghts_DP , label= \"Sync DP\" )\n",
    "plt.xlabel(\"Number of backups\")\n",
    "plt.ylabel(\"Average path length\")\n",
    "plt.legend(loc=\"upper right\", frameon = False)\n",
    "plt.ylim(0,100)\n",
    "plt.title(\"Slow convergence\")\n",
    "plt.savefig(\"images/DP-rtdp-conver\", boxinches = \"tight\")\n",
    "plt.show()"
   ]
  },
  {
   "cell_type": "code",
   "execution_count": 46,
   "metadata": {
    "collapsed": false
   },
   "outputs": [
    {
     "data": {
      "image/png": "[encoded data removed]",
      "text/plain": [
       "<matplotlib.figure.Figure at 0x7e402b0>"
      ]
     },
     "metadata": {},
     "output_type": "display_data"
    }
   ],
   "source": [
    "plt.plot(backupsAvg, lenghtsAvg , label = \"RTDP\")\n",
    "plt.plot(backups_DP, lenghts_DP , label= \"Sync DP\" )\n",
    "plt.xlabel(\"Number of backups\")\n",
    "plt.ylabel(\"Average path length\")\n",
    "plt.legend(loc=\"upper right\", frameon = False)\n",
    "plt.title(\"Good anytime behaviour\")\n",
    "plt.savefig(\"images/DP-rtdp-anytime\", boxinches = \"tight\")\n",
    "plt.show()"
   ]
  },
  {
   "cell_type": "markdown",
   "metadata": {},
   "source": [
    "## LRTDP"
   ]
  },
  {
   "cell_type": "code",
   "execution_count": 47,
   "metadata": {
    "collapsed": true
   },
   "outputs": [],
   "source": [
    "def checkSolved(state, epsilon, V, nbBackups):\n",
    "    rv = True\n",
    "    openStack = []\n",
    "    closedStack = []\n",
    "    openUclosed = set()\n",
    "    if not states_solved[state]:\n",
    "        openStack.append(state)\n",
    "        openUclosed.add(state)\n",
    "\n",
    "    # print state\n",
    "    while (len(openStack) != 0):\n",
    "        s = openStack.pop()\n",
    "        closedStack.append(s)  \n",
    "\n",
    "        if s == END:\n",
    "            rv = True\n",
    "            continue\n",
    "\n",
    "        # greedy\n",
    "        bestAction = greedyAction(s, V)\n",
    "        nextState = trans[s][bestAction]\n",
    "        # Qvalue\n",
    "        Qvalue = r[nextState] + gamma * V[nextState]\n",
    "        # Residual\n",
    "        Residual = abs(V[s] - Qvalue)\n",
    "\n",
    "        if Residual > epsilon:\n",
    "            rv = False\n",
    "            continue\n",
    "\n",
    "        if not states_solved[nextState] and nextState not in openUclosed:\n",
    "            openStack.append(nextState)\n",
    "            openUclosed.add(nextState)\n",
    "\n",
    "    if rv:\n",
    "        for s1 in closedStack:\n",
    "            states_solved[s1] = True\n",
    "    else:\n",
    "        while (len(closedStack) != 0):\n",
    "            s = closedStack.pop()\n",
    "            bestAction = greedyAction(s, V)\n",
    "            nextState = trans[s][bestAction]\n",
    "            Qvalue = r[nextState] + gamma * V[nextState]\n",
    "            V[s] = Qvalue\n",
    "            nbBackups +=1\n",
    "\n",
    "    return rv, nbBackups\n",
    "\n",
    "def getPathLengthFromState(V, state):  \n",
    "    start = time.time()\n",
    "    nbSteps =0\n",
    "   \n",
    "    while (state!=END):\n",
    "        bestAction = greedyAction(state, V)\n",
    "        while not states_solved[trans[state][bestAction]]:\n",
    "            bestAction = greedyAction(state, V)\n",
    "            \n",
    "        nextState = trans[state][bestAction]\n",
    "        nbSteps += 1        \n",
    "        \n",
    "        #DEBUG for possible loops\n",
    "        \"\"\" \n",
    "        if (time.time()-start)>=1:\n",
    "            print state, bestAction, nextState, states_solved[state]           \n",
    "            Vgrid = grid.copy()\n",
    "            for state in V.keys():\n",
    "                Vgrid[state] = V[state]\n",
    "            print Vgrid\n",
    "            sys.stdout.flush()\n",
    "            raw_input(\"Pausa\")\n",
    "        \"\"\"\n",
    "        state = nextState\n",
    "        \n",
    "    return nbSteps"
   ]
  },
  {
   "cell_type": "code",
   "execution_count": 48,
   "metadata": {
    "collapsed": false
   },
   "outputs": [
    {
     "name": "stdout",
     "output_type": "stream",
     "text": [
      "499\n"
     ]
    }
   ],
   "source": [
    "trials_simulations = []\n",
    "\n",
    "for it in range(500):    \n",
    "    nbBackups_LRTDP =0\n",
    "    states_solved = defaultdict(lambda: False)\n",
    "    V_LRTDP = defaultdict(float)\n",
    "    epsilon = 10**(-3) \n",
    "    \n",
    "    trials_stats = []\n",
    "    clear_output()    \n",
    "    print it\n",
    "    sys.stdout.flush()\n",
    "    while not states_solved[START]:\n",
    "        visitedStack = []\n",
    "        state = START\n",
    "        nbSteps = 0\n",
    "        while not states_solved[state]:\n",
    "            visitedStack.append(state)\n",
    "            if state == END:\n",
    "                break\n",
    "\n",
    "            bestAction = greedyAction(state, V_LRTDP)\n",
    "            nextState = trans[state][bestAction]\n",
    "            Qvalue = r[nextState] + gamma * V_LRTDP[nextState]\n",
    "            V_LRTDP[state] = Qvalue\n",
    "            nbBackups_LRTDP +=1\n",
    "\n",
    "            nbSteps +=1\n",
    "            state = nextState     \n",
    "            \n",
    "        \n",
    "        nbSteps += getPathLengthFromState(V_LRTDP, state)\n",
    "        \n",
    "        \n",
    "        while len(visitedStack) != 0:\n",
    "            s = visitedStack.pop()\n",
    "            SOLVED, nbBackups_LRTDP = checkSolved(s, epsilon, V_LRTDP, nbBackups_LRTDP)\n",
    "            if not SOLVED:\n",
    "                break  \n",
    "                \n",
    "        trials_stats.append((nbSteps, nbBackups_LRTDP))\n",
    "    trials_simulations.append(trials_stats)"
   ]
  },
  {
   "cell_type": "code",
   "execution_count": 49,
   "metadata": {
    "collapsed": false
   },
   "outputs": [
    {
     "data": {
      "text/plain": [
       "(500L, 25L, 2L)"
      ]
     },
     "execution_count": 49,
     "metadata": {},
     "output_type": "execute_result"
    }
   ],
   "source": [
    "#get maximum number of trials \n",
    "maxNbTrials = max([len(t) for t in trials_simulations])\n",
    "for idx,_ in enumerate(trials_simulations):\n",
    "    while (len(trials_simulations[idx]) < maxNbTrials):\n",
    "        trials_simulations[idx].append(trials_simulations[idx][-1])\n",
    "        \n",
    "simulationsMaxtrix = np.array(trials_simulations)\n",
    "simulationsMaxtrix.shape"
   ]
  },
  {
   "cell_type": "code",
   "execution_count": 50,
   "metadata": {
    "collapsed": false
   },
   "outputs": [
    {
     "data": {
      "text/plain": [
       "(500L, 25L)"
      ]
     },
     "execution_count": 50,
     "metadata": {},
     "output_type": "execute_result"
    }
   ],
   "source": [
    "lengthsMatrix = simulationsMaxtrix[:,:,0]\n",
    "backupsMatrix = simulationsMaxtrix[:,:,1]\n",
    "lengthsMatrix.shape"
   ]
  },
  {
   "cell_type": "code",
   "execution_count": 51,
   "metadata": {
    "collapsed": true
   },
   "outputs": [],
   "source": [
    "lenghtsAvg_LRTDP = lengthsMatrix.mean(axis=0)\n",
    "backupsAvg_LRTDP = backupsMatrix.mean(axis=0)"
   ]
  },
  {
   "cell_type": "code",
   "execution_count": 52,
   "metadata": {
    "collapsed": false
   },
   "outputs": [
    {
     "data": {
      "image/png": "[encoded data removed]",
      "text/plain": [
       "<matplotlib.figure.Figure at 0x82a3048>"
      ]
     },
     "metadata": {},
     "output_type": "display_data"
    }
   ],
   "source": [
    "plt.plot(backupsAvg_LRTDP, lenghtsAvg_LRTDP, label = \"LRTDP\")\n",
    "plt.plot(backupsAvg, lenghtsAvg , label = \"RTDP\")\n",
    "plt.plot(backups_DP, lenghts_DP , label= \"Sync DP\" )\n",
    "plt.xlabel(\"Number of backups\")\n",
    "plt.ylabel(\"Average path length\")\n",
    "plt.legend(loc=\"upper right\", frameon = False)\n",
    "plt.title(\"Good anytime behaviour\")\n",
    "plt.savefig(\"images/DP-rtdp-lrtdp-anytime\", boxinches = \"tight\")\n",
    "plt.show()"
   ]
  },
  {
   "cell_type": "code",
   "execution_count": 53,
   "metadata": {
    "collapsed": false
   },
   "outputs": [
    {
     "data": {
      "image/png": "[encoded data removed]",
      "text/plain": [
       "<matplotlib.figure.Figure at 0x7a4e438>"
      ]
     },
     "metadata": {},
     "output_type": "display_data"
    }
   ],
   "source": [
    "plt.plot(backupsAvg_LRTDP, lenghtsAvg_LRTDP, label = \"LRTDP\")\n",
    "plt.plot(backupsAvg, lenghtsAvg , label = \"RTDP\")\n",
    "plt.plot(backups_DP, lenghts_DP , label= \"Sync DP\" )\n",
    "plt.xlabel(\"Number of backups\")\n",
    "plt.ylabel(\"Average path length\")\n",
    "plt.legend(loc=\"upper right\", frameon = False)\n",
    "plt.title(\"Faster convergence\")\n",
    "plt.ylim(0,100)\n",
    "plt.savefig(\"images/DP-rtdp-lrtdp-conver\", boxinches = \"tight\")\n",
    "plt.show()"
   ]
  }
 ],
 "metadata": {
  "kernelspec": {
   "display_name": "Python 2",
   "language": "python",
   "name": "python2"
  },
  "language_info": {
   "codemirror_mode": {
    "name": "ipython",
    "version": 2
   },
   "file_extension": ".py",
   "mimetype": "text/x-python",
   "name": "python",
   "nbconvert_exporter": "python",
   "pygments_lexer": "ipython2",
   "version": "2.7.11"
  }
 },
 "nbformat": 4,
 "nbformat_minor": 0
}
